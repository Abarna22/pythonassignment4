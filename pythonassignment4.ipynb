{
 "cells": [
  {
   "cell_type": "code",
   "execution_count": null,
   "id": "e77b11c5",
   "metadata": {},
   "outputs": [],
   "source": [
    "\"\"\"1. What exactly is []?\n",
    "\n",
    "Ans\n",
    "list\"\"\""
   ]
  },
  {
   "cell_type": "code",
   "execution_count": 1,
   "id": "ed181232",
   "metadata": {},
   "outputs": [
    {
     "name": "stdout",
     "output_type": "stream",
     "text": [
      "[2, 4, 'hello', 8, 10]\n"
     ]
    }
   ],
   "source": [
    "\"\"\"2. In a list of values stored in a variable called spam, how would you assign the value 'hello'as the\n",
    "third value? (Assume [2, 4, 6, 8, 10] are in spam.)\n",
    "\n",
    "Ans\"\"\"\n",
    "spam=[2,4,6,8,10]\n",
    "spam[2]= 'hello'\n",
    "print(spam)"
   ]
  },
  {
   "cell_type": "code",
   "execution_count": 2,
   "id": "176f9fbd",
   "metadata": {},
   "outputs": [
    {
     "data": {
      "text/plain": [
       "'d'"
      ]
     },
     "execution_count": 2,
     "metadata": {},
     "output_type": "execute_result"
    }
   ],
   "source": [
    "\"\"\"Let's pretend the spam includes the list ['a', 'b', 'c', 'd'] for the next three queries.\n",
    "\n",
    "3. What is the value of spam[int(int('3' * 2) / 11)]?\"\"\"\n",
    "\n",
    "spam= ['a', 'b', 'c', 'd']\n",
    "spam[int(int('3' * 2) / 11)]"
   ]
  },
  {
   "cell_type": "code",
   "execution_count": 10,
   "id": "1841380c",
   "metadata": {},
   "outputs": [
    {
     "data": {
      "text/plain": [
       "'d'"
      ]
     },
     "execution_count": 10,
     "metadata": {},
     "output_type": "execute_result"
    }
   ],
   "source": [
    "\"\"\"4. What is the value of spam [-1]?\n",
    "\n",
    "Ans\"\"\"\n",
    "spam= ['a', 'b', 'c', 'd']\n",
    "spam [-1]"
   ]
  },
  {
   "cell_type": "code",
   "execution_count": 11,
   "id": "cae8886d",
   "metadata": {},
   "outputs": [
    {
     "data": {
      "text/plain": [
       "'c'"
      ]
     },
     "execution_count": 11,
     "metadata": {},
     "output_type": "execute_result"
    }
   ],
   "source": [
    "\"\"\"5. What is the value of spam[:2]?\n",
    "Ans\"\"\"\n",
    "spam= ['a', 'b', 'c', 'd']\n",
    "spam [-2]"
   ]
  },
  {
   "cell_type": "code",
   "execution_count": 14,
   "id": "66539fb1",
   "metadata": {},
   "outputs": [
    {
     "data": {
      "text/plain": [
       "1"
      ]
     },
     "execution_count": 14,
     "metadata": {},
     "output_type": "execute_result"
    }
   ],
   "source": [
    "\"\"\"Let's pretend bacon has the list [3.14, 'cat' 11, 'cat' True] for the next three questions.\n",
    "\n",
    "6. What is the value of bacon.index('cat')?\n",
    "Ans\"\"\"\n",
    "\n",
    "bacon= [3.14, 'cat', 11, 'cat', True]\n",
    "bacon.index('cat')"
   ]
  },
  {
   "cell_type": "code",
   "execution_count": 17,
   "id": "4fd440fc",
   "metadata": {},
   "outputs": [
    {
     "name": "stdout",
     "output_type": "stream",
     "text": [
      "[3.14, 'cat', 11, 'cat', True, 99]\n"
     ]
    }
   ],
   "source": [
    "\"\"\"7. How does bacon.append(99) change the look of the list value in bacon?\n",
    "\n",
    "Ans\"\"\"\n",
    "\n",
    "bacon= [3.14, 'cat', 11, 'cat', True]\n",
    "bacon.append(99)\n",
    "print(bacon)"
   ]
  },
  {
   "cell_type": "code",
   "execution_count": 19,
   "id": "11e8c472",
   "metadata": {},
   "outputs": [
    {
     "name": "stdout",
     "output_type": "stream",
     "text": [
      "[3.14, 11, 'cat', True]\n"
     ]
    }
   ],
   "source": [
    "\"\"\"8. How does bacon.remove('cat') change the look of the list in bacon?\n",
    "\n",
    "Ans\"\"\"\n",
    "bacon= [3.14, 'cat', 11, 'cat', True]\n",
    "bacon.remove('cat')\n",
    "print(bacon)"
   ]
  },
  {
   "cell_type": "code",
   "execution_count": null,
   "id": "a461fcf2",
   "metadata": {},
   "outputs": [],
   "source": [
    "\"\"\"9. What are the list concatenation and list replication operators?\n",
    "\n",
    "Ans\n",
    "concatenation operators= +\n",
    "list replication operator= *\"\"\""
   ]
  },
  {
   "cell_type": "code",
   "execution_count": null,
   "id": "9c1c6206",
   "metadata": {},
   "outputs": [],
   "source": [
    "\"\"\"10. What is difference between the list methods append() and insert()?\n",
    "\n",
    "Ans\n",
    "append() = it will add the value at the end of the list\n",
    "insert() = it will insert the given value in given specified position\"\"\""
   ]
  },
  {
   "cell_type": "code",
   "execution_count": null,
   "id": "e880b4be",
   "metadata": {},
   "outputs": [],
   "source": [
    "\"\"\"11. What are the two methods for removing items from a list?\n",
    "\n",
    "Ans\n",
    "using remove(), pop(), clear()\"\"\""
   ]
  },
  {
   "cell_type": "code",
   "execution_count": null,
   "id": "e17136e0",
   "metadata": {},
   "outputs": [],
   "source": [
    "\"\"\"12. Describe how list values and string values are identical.\n",
    "\n",
    "Ans\n",
    "The values that make up a list are called its elements. Lists are similar to strings, \n",
    "which are ordered collections of characters, except that the elements of a list can have any type and for any one list, \n",
    "the items can be of different types.\"\"\""
   ]
  },
  {
   "cell_type": "code",
   "execution_count": null,
   "id": "b79d1c7a",
   "metadata": {},
   "outputs": [],
   "source": [
    "\"\"\"13. What's the difference between tuples and lists?\n",
    "Ans\n",
    "The key difference between the tuples and lists is that while the tuples are immutable objects the lists are mutable. \n",
    "This means that tuples cannot be changed while the lists can be modified\"\"\""
   ]
  },
  {
   "cell_type": "code",
   "execution_count": 24,
   "id": "e8de1dae",
   "metadata": {},
   "outputs": [
    {
     "data": {
      "text/plain": [
       "(42, 42, 42)"
      ]
     },
     "execution_count": 24,
     "metadata": {},
     "output_type": "execute_result"
    }
   ],
   "source": [
    "\"\"\"14. How do you type a tuple value that only contains the integer 42?\n",
    "\n",
    "Ans\"\"\"\n",
    "\n",
    "l=[42,42,42]\n",
    "tuple(l)\n"
   ]
  },
  {
   "cell_type": "code",
   "execution_count": 25,
   "id": "ef6d331d",
   "metadata": {},
   "outputs": [
    {
     "data": {
      "text/plain": [
       "(1, 3, 'r')"
      ]
     },
     "execution_count": 25,
     "metadata": {},
     "output_type": "execute_result"
    }
   ],
   "source": [
    "\"\"\"15. How do you get a list value's tuple form? How do you get a tuple value's list form?\n",
    "Ans\"\"\"\n",
    "\n",
    "l=[1,3,'r']\n",
    "tuple(l)"
   ]
  },
  {
   "cell_type": "code",
   "execution_count": 26,
   "id": "be758284",
   "metadata": {},
   "outputs": [
    {
     "data": {
      "text/plain": [
       "[[1, 3, 'r']]"
      ]
     },
     "execution_count": 26,
     "metadata": {},
     "output_type": "execute_result"
    }
   ],
   "source": [
    "[l]"
   ]
  },
  {
   "cell_type": "code",
   "execution_count": null,
   "id": "e9976d4d",
   "metadata": {},
   "outputs": [],
   "source": [
    "\"\"\"16. Variables that \"contains\" list values are not necessarily lists themselves. Instead, what do they\n",
    "contain?\n",
    "Ans\n",
    "Variables will contain references to list values rather than list values themselves. But for strings and integer values, \n",
    "variables simply contain the string or integer value\"\"\""
   ]
  },
  {
   "cell_type": "code",
   "execution_count": null,
   "id": "0068d55b",
   "metadata": {},
   "outputs": [],
   "source": [
    "\"\"\"17. How do you distinguish between copy.copy() and copy.deepcopy()?\n",
    "\n",
    "Ans\n",
    "A copy constructs a new compound object and then inserts references into it to the objects found in the original.\n",
    "\n",
    "A deep copy constructs a new compound object and then, recursively, inserts copies into it of the objects found in the original.\"\"\"\n"
   ]
  }
 ],
 "metadata": {
  "kernelspec": {
   "display_name": "Python 3",
   "language": "python",
   "name": "python3"
  },
  "language_info": {
   "codemirror_mode": {
    "name": "ipython",
    "version": 3
   },
   "file_extension": ".py",
   "mimetype": "text/x-python",
   "name": "python",
   "nbconvert_exporter": "python",
   "pygments_lexer": "ipython3",
   "version": "3.8.8"
  }
 },
 "nbformat": 4,
 "nbformat_minor": 5
}
